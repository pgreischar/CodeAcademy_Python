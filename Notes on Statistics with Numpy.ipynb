{
 "cells": [
  {
   "cell_type": "markdown",
   "metadata": {},
   "source": [
    "Numpy Lesson on CodeAcademy."
   ]
  },
  {
   "cell_type": "code",
   "execution_count": 51,
   "metadata": {},
   "outputs": [],
   "source": [
    "import numpy as np\n"
   ]
  },
  {
   "cell_type": "code",
   "execution_count": 52,
   "metadata": {},
   "outputs": [],
   "source": [
    "water_height = np.array([4.01, 4.03, 4.27, 4.29, 4.19, 4.15, 4.16, 4.23, 4.29, 4.19, 4.00, 4.22, 4.25, 4.19,\n",
    "                         4.10,4.14, 4.03, 4.23, 4.08, 14.20,14.03, 11.20, 8.19, 6.18, 4.04,4.08, 4.11, 4.23,\n",
    "                         3.99, 4.23])"
   ]
  },
  {
   "cell_type": "code",
   "execution_count": 53,
   "metadata": {},
   "outputs": [
    {
     "name": "stdout",
     "output_type": "stream",
     "text": [
      "The mean water height is 5.251 inches.\n"
     ]
    }
   ],
   "source": [
    "mean_water_height = np.mean(water_height)\n",
    "print'The mean water height is',mean_water_height, 'inches.'\n",
    "\n"
   ]
  },
  {
   "cell_type": "code",
   "execution_count": 54,
   "metadata": {},
   "outputs": [
    {
     "data": {
      "text/plain": [
       "array([ 3.99,  4.  ,  4.01,  4.03,  4.03,  4.04,  4.08,  4.08,  4.1 ,\n",
       "        4.11,  4.14,  4.15,  4.16,  4.19,  4.19,  4.19,  4.22,  4.23,\n",
       "        4.23,  4.23,  4.23,  4.25,  4.27,  4.29,  4.29,  6.18,  8.19,\n",
       "       11.2 , 14.03, 14.2 ])"
      ]
     },
     "execution_count": 54,
     "metadata": {},
     "output_type": "execute_result"
    }
   ],
   "source": [
    "## If you wanted to sort, you could use the np.sort command.\n",
    "np.sort(water_height)"
   ]
  },
  {
   "cell_type": "code",
   "execution_count": 55,
   "metadata": {},
   "outputs": [
    {
     "name": "stdout",
     "output_type": "stream",
     "text": [
      "The median water height is 4.19 inches.\n"
     ]
    }
   ],
   "source": [
    "median_water_height = np.median(water_height)\n",
    "print'The median water height is',median_water_height, 'inches.'"
   ]
  },
  {
   "cell_type": "code",
   "execution_count": 56,
   "metadata": {},
   "outputs": [
    {
     "name": "stdout",
     "output_type": "stream",
     "text": [
      "The 75th percentile for water height is 4.265 inches.\n"
     ]
    }
   ],
   "source": [
    "percentile_75_water_height = np.percentile(water_height, 75)\n",
    "print'The 75th percentile for water height is',percentile_75_water_height, 'inches.'"
   ]
  },
  {
   "cell_type": "code",
   "execution_count": 57,
   "metadata": {},
   "outputs": [
    {
     "name": "stdout",
     "output_type": "stream",
     "text": [
      "The standard deviation for water height is 2.784585367099861 inches.\n"
     ]
    }
   ],
   "source": [
    "std_water_height = np.std(water_height)\n",
    "print'The standard deviation for water height is',std_water_height, 'inches.'"
   ]
  },
  {
   "cell_type": "code",
   "execution_count": 58,
   "metadata": {},
   "outputs": [
    {
     "data": {
      "text/plain": [
       "(0.13333333333333333, 0.8666666666666667)"
      ]
     },
     "execution_count": 58,
     "metadata": {},
     "output_type": "execute_result"
    }
   ],
   "source": [
    "## You can use the mean function to calculate the % of values in an array that meet some criteria.  For example, \n",
    "## the percent of values where the water height is greater than or equal to 8.0 and less than 8 would be:\n",
    "np.mean(water_height >=8.0), np.mean(water_height <8.0)\n"
   ]
  },
  {
   "cell_type": "code",
   "execution_count": 59,
   "metadata": {},
   "outputs": [
    {
     "data": {
      "text/plain": [
       "0.5333333333333333"
      ]
     },
     "execution_count": 59,
     "metadata": {},
     "output_type": "execute_result"
    }
   ],
   "source": [
    "## Calculating the Mean of 2D Arrays\n",
    "## If we have a two-dimensional array, np.mean can calculate the means of the larger array as well as the interior values.\n",
    "\n",
    "## Let's imagine a game of ring toss at a carnival. In this game, you have three different chances to get all three rings onto a stick. \n",
    "## In our ring_toss array, each interior array (the arrays within the larger array) is one try, and each number is one\n",
    "## ring toss. 1 represents a successful toss, 0 represents a fail.\n",
    "\n",
    "##First, we can use np.mean to find the mean across all the arrays, which is the # of successful ring tosses overall.\n",
    "\n",
    "ring_toss = np.array([[1, 0, 0, 0, 0], \n",
    "                          [1, 0, 1, 0 ,0], \n",
    "                          [1, 1, 1, 1, 1]])\n",
    "np.mean(ring_toss)\n"
   ]
  },
  {
   "cell_type": "code",
   "execution_count": 60,
   "metadata": {},
   "outputs": [
    {
     "data": {
      "text/plain": [
       "array([0.2, 0.4, 1. ])"
      ]
     },
     "execution_count": 60,
     "metadata": {},
     "output_type": "execute_result"
    }
   ],
   "source": [
    "## To find the means of each interior array, we specify axis 1 (the \"rows\"):\n",
    "\n",
    "np.mean(ring_toss, axis=1)\n"
   ]
  },
  {
   "cell_type": "code",
   "execution_count": 63,
   "metadata": {},
   "outputs": [
    {
     "data": {
      "text/plain": [
       "array([1.        , 0.33333333, 0.66666667, 0.33333333, 0.33333333])"
      ]
     },
     "execution_count": 63,
     "metadata": {},
     "output_type": "execute_result"
    }
   ],
   "source": [
    "##To find the means of each index position (i.e, mean of all 1st tosses, mean of all 2nd tosses, ...), we specifiy axis 0 (the \"columns\"):\n",
    "\n",
    "np.mean(ring_toss, axis=0)"
   ]
  },
  {
   "cell_type": "markdown",
   "metadata": {},
   "source": [
    "Ended on Day 6 of Unit 3, Statistical distributions with Numpy"
   ]
  },
  {
   "cell_type": "code",
   "execution_count": null,
   "metadata": {},
   "outputs": [],
   "source": []
  }
 ],
 "metadata": {
  "celltoolbar": "Raw Cell Format",
  "kernelspec": {
   "display_name": "Python 2",
   "language": "python",
   "name": "python2"
  },
  "language_info": {
   "codemirror_mode": {
    "name": "ipython",
    "version": 2
   },
   "file_extension": ".py",
   "mimetype": "text/x-python",
   "name": "python",
   "nbconvert_exporter": "python",
   "pygments_lexer": "ipython2",
   "version": "2.7.15"
  }
 },
 "nbformat": 4,
 "nbformat_minor": 2
}
